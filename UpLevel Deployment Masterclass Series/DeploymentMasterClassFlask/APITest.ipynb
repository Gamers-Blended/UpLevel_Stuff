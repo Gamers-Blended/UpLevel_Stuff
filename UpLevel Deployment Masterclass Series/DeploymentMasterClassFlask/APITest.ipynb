{
 "cells": [
  {
   "cell_type": "markdown",
   "metadata": {},
   "source": [
    "Video guide: https://www.youtube.com/watch?v=vmxJ6xQeA0g"
   ]
  },
  {
   "cell_type": "code",
   "execution_count": 1,
   "metadata": {},
   "outputs": [],
   "source": [
    "# import libraries\n",
    "import requests\n",
    "import json\n",
    "import pandas as pd"
   ]
  },
  {
   "cell_type": "code",
   "execution_count": 2,
   "metadata": {},
   "outputs": [
    {
     "data": {
      "text/plain": [
       "<Response [200]>"
      ]
     },
     "execution_count": 2,
     "metadata": {},
     "output_type": "execute_result"
    }
   ],
   "source": [
    "# do a test requests for the \"/\" route\n",
    "# remember to run microserver school.py\n",
    "test_res = requests.get(\"http://127.0.0.1:5000/\")\n",
    "test_res"
   ]
  },
  {
   "cell_type": "code",
   "execution_count": 3,
   "metadata": {},
   "outputs": [
    {
     "data": {
      "text/plain": [
       "'Hello world!'"
      ]
     },
     "execution_count": 3,
     "metadata": {},
     "output_type": "execute_result"
    }
   ],
   "source": [
    "# get the text from the Response object\n",
    "test_res.text"
   ]
  },
  {
   "cell_type": "code",
   "execution_count": 4,
   "metadata": {},
   "outputs": [
    {
     "data": {
      "text/plain": [
       "<Response [500]>"
      ]
     },
     "execution_count": 4,
     "metadata": {},
     "output_type": "execute_result"
    }
   ],
   "source": [
    "# do a test requests for the \"/\" route\n",
    "test_res = requests.get(\"http://127.0.0.1:5000/predict\")\n",
    "test_res"
   ]
  },
  {
   "cell_type": "code",
   "execution_count": 5,
   "metadata": {},
   "outputs": [
    {
     "data": {
      "text/plain": [
       "'<!DOCTYPE HTML PUBLIC \"-//W3C//DTD HTML 3.2 Final//EN\">\\n<title>500 Internal Server Error</title>\\n<h1>Internal Server Error</h1>\\n<p>The server encountered an internal error and was unable to complete your request. Either the server is overloaded or there is an error in the application.</p>\\n'"
      ]
     },
     "execution_count": 5,
     "metadata": {},
     "output_type": "execute_result"
    }
   ],
   "source": [
    "test_res.text"
   ]
  },
  {
   "cell_type": "code",
   "execution_count": 6,
   "metadata": {},
   "outputs": [],
   "source": [
    "# declare payload\n",
    "body = [\n",
    "    {\"school_setting\": 0,\n",
    "     \"school_type\": 1,\n",
    "     \"teaching_method\": 1,\n",
    "     \"n_student\": 20,\n",
    "     \"gender\": 1, \n",
    "     \"lunch\": 1,\n",
    "     \"pretest\": 48.0},\n",
    "    \n",
    "    {\"school_setting\": 0,\n",
    "     \"school_type\": 1,\n",
    "     \"teaching_method\": 1,\n",
    "     \"n_student\": 20,\n",
    "     \"gender\": 1, \n",
    "     \"lunch\": 1,\n",
    "     \"pretest\": 48.0},\n",
    "    \n",
    "    {\"school_setting\": 0,\n",
    "     \"school_type\": 1,\n",
    "     \"teaching_method\": 1,\n",
    "     \"n_student\": 20,\n",
    "     \"gender\": 1, \n",
    "     \"lunch\": 1,\n",
    "     \"pretest\": 48.0},\n",
    "    \n",
    "    {\"school_setting\": 0,\n",
    "     \"school_type\": 1,\n",
    "     \"teaching_method\": 1,\n",
    "     \"n_student\": 20,\n",
    "     \"gender\": 1, \n",
    "     \"lunch\": 1,\n",
    "     \"pretest\": 48.0}\n",
    "]"
   ]
  },
  {
   "cell_type": "code",
   "execution_count": 7,
   "metadata": {},
   "outputs": [
    {
     "data": {
      "text/plain": [
       "'[{\"school_setting\": 0, \"school_type\": 1, \"teaching_method\": 1, \"n_student\": 20, \"gender\": 1, \"lunch\": 1, \"pretest\": 48.0}, {\"school_setting\": 0, \"school_type\": 1, \"teaching_method\": 1, \"n_student\": 20, \"gender\": 1, \"lunch\": 1, \"pretest\": 48.0}, {\"school_setting\": 0, \"school_type\": 1, \"teaching_method\": 1, \"n_student\": 20, \"gender\": 1, \"lunch\": 1, \"pretest\": 48.0}, {\"school_setting\": 0, \"school_type\": 1, \"teaching_method\": 1, \"n_student\": 20, \"gender\": 1, \"lunch\": 1, \"pretest\": 48.0}]'"
      ]
     },
     "execution_count": 7,
     "metadata": {},
     "output_type": "execute_result"
    }
   ],
   "source": [
    "# convert to string representation\n",
    "json.dumps(body)"
   ]
  },
  {
   "cell_type": "code",
   "execution_count": 8,
   "metadata": {},
   "outputs": [
    {
     "data": {
      "text/html": [
       "<div>\n",
       "<style scoped>\n",
       "    .dataframe tbody tr th:only-of-type {\n",
       "        vertical-align: middle;\n",
       "    }\n",
       "\n",
       "    .dataframe tbody tr th {\n",
       "        vertical-align: top;\n",
       "    }\n",
       "\n",
       "    .dataframe thead th {\n",
       "        text-align: right;\n",
       "    }\n",
       "</style>\n",
       "<table border=\"1\" class=\"dataframe\">\n",
       "  <thead>\n",
       "    <tr style=\"text-align: right;\">\n",
       "      <th></th>\n",
       "      <th>school_setting</th>\n",
       "      <th>school_type</th>\n",
       "      <th>teaching_method</th>\n",
       "      <th>n_student</th>\n",
       "      <th>gender</th>\n",
       "      <th>lunch</th>\n",
       "      <th>pretest</th>\n",
       "    </tr>\n",
       "  </thead>\n",
       "  <tbody>\n",
       "    <tr>\n",
       "      <th>0</th>\n",
       "      <td>0</td>\n",
       "      <td>1</td>\n",
       "      <td>1</td>\n",
       "      <td>20</td>\n",
       "      <td>1</td>\n",
       "      <td>1</td>\n",
       "      <td>48</td>\n",
       "    </tr>\n",
       "    <tr>\n",
       "      <th>1</th>\n",
       "      <td>0</td>\n",
       "      <td>1</td>\n",
       "      <td>1</td>\n",
       "      <td>20</td>\n",
       "      <td>1</td>\n",
       "      <td>1</td>\n",
       "      <td>48</td>\n",
       "    </tr>\n",
       "    <tr>\n",
       "      <th>2</th>\n",
       "      <td>0</td>\n",
       "      <td>1</td>\n",
       "      <td>1</td>\n",
       "      <td>20</td>\n",
       "      <td>1</td>\n",
       "      <td>1</td>\n",
       "      <td>48</td>\n",
       "    </tr>\n",
       "    <tr>\n",
       "      <th>3</th>\n",
       "      <td>0</td>\n",
       "      <td>1</td>\n",
       "      <td>1</td>\n",
       "      <td>20</td>\n",
       "      <td>1</td>\n",
       "      <td>1</td>\n",
       "      <td>48</td>\n",
       "    </tr>\n",
       "  </tbody>\n",
       "</table>\n",
       "</div>"
      ],
      "text/plain": [
       "   school_setting  school_type  teaching_method  n_student  gender  lunch  \\\n",
       "0               0            1                1         20       1      1   \n",
       "1               0            1                1         20       1      1   \n",
       "2               0            1                1         20       1      1   \n",
       "3               0            1                1         20       1      1   \n",
       "\n",
       "   pretest  \n",
       "0       48  \n",
       "1       48  \n",
       "2       48  \n",
       "3       48  "
      ]
     },
     "execution_count": 8,
     "metadata": {},
     "output_type": "execute_result"
    }
   ],
   "source": [
    "# to df\n",
    "pd.read_json(json.dumps(body))"
   ]
  },
  {
   "cell_type": "code",
   "execution_count": 9,
   "metadata": {},
   "outputs": [
    {
     "data": {
      "text/plain": [
       "<Response [200]>"
      ]
     },
     "execution_count": 9,
     "metadata": {},
     "output_type": "execute_result"
    }
   ],
   "source": [
    "test_res = requests.get(\"http://127.0.0.1:5000/predict\",\n",
    "                        json=json.dumps(body)) # payload\n",
    "test_res"
   ]
  },
  {
   "cell_type": "code",
   "execution_count": 10,
   "metadata": {},
   "outputs": [
    {
     "data": {
      "text/plain": [
       "{'prediction': [53.1985018037518,\n",
       "  53.1985018037518,\n",
       "  53.1985018037518,\n",
       "  53.1985018037518]}"
      ]
     },
     "execution_count": 10,
     "metadata": {},
     "output_type": "execute_result"
    }
   ],
   "source": [
    "test_res.json()"
   ]
  },
  {
   "cell_type": "code",
   "execution_count": 11,
   "metadata": {},
   "outputs": [
    {
     "data": {
      "text/html": [
       "<div>\n",
       "<style scoped>\n",
       "    .dataframe tbody tr th:only-of-type {\n",
       "        vertical-align: middle;\n",
       "    }\n",
       "\n",
       "    .dataframe tbody tr th {\n",
       "        vertical-align: top;\n",
       "    }\n",
       "\n",
       "    .dataframe thead th {\n",
       "        text-align: right;\n",
       "    }\n",
       "</style>\n",
       "<table border=\"1\" class=\"dataframe\">\n",
       "  <thead>\n",
       "    <tr style=\"text-align: right;\">\n",
       "      <th></th>\n",
       "      <th>school_setting</th>\n",
       "      <th>school_type</th>\n",
       "      <th>teaching_method</th>\n",
       "      <th>n_student</th>\n",
       "      <th>gender</th>\n",
       "      <th>lunch</th>\n",
       "      <th>pretest</th>\n",
       "    </tr>\n",
       "  </thead>\n",
       "  <tbody>\n",
       "    <tr>\n",
       "      <th>0</th>\n",
       "      <td>0</td>\n",
       "      <td>1</td>\n",
       "      <td>1</td>\n",
       "      <td>20</td>\n",
       "      <td>1</td>\n",
       "      <td>1</td>\n",
       "      <td>48</td>\n",
       "    </tr>\n",
       "    <tr>\n",
       "      <th>1</th>\n",
       "      <td>0</td>\n",
       "      <td>1</td>\n",
       "      <td>1</td>\n",
       "      <td>20</td>\n",
       "      <td>1</td>\n",
       "      <td>1</td>\n",
       "      <td>48</td>\n",
       "    </tr>\n",
       "    <tr>\n",
       "      <th>2</th>\n",
       "      <td>0</td>\n",
       "      <td>1</td>\n",
       "      <td>1</td>\n",
       "      <td>20</td>\n",
       "      <td>1</td>\n",
       "      <td>1</td>\n",
       "      <td>48</td>\n",
       "    </tr>\n",
       "    <tr>\n",
       "      <th>3</th>\n",
       "      <td>0</td>\n",
       "      <td>1</td>\n",
       "      <td>1</td>\n",
       "      <td>20</td>\n",
       "      <td>1</td>\n",
       "      <td>1</td>\n",
       "      <td>48</td>\n",
       "    </tr>\n",
       "  </tbody>\n",
       "</table>\n",
       "</div>"
      ],
      "text/plain": [
       "   school_setting  school_type  teaching_method  n_student  gender  lunch  \\\n",
       "0               0            1                1         20       1      1   \n",
       "1               0            1                1         20       1      1   \n",
       "2               0            1                1         20       1      1   \n",
       "3               0            1                1         20       1      1   \n",
       "\n",
       "   pretest  \n",
       "0       48  \n",
       "1       48  \n",
       "2       48  \n",
       "3       48  "
      ]
     },
     "execution_count": 11,
     "metadata": {},
     "output_type": "execute_result"
    }
   ],
   "source": [
    "test_df = pd.read_json(json.dumps(body))\n",
    "test_df"
   ]
  },
  {
   "cell_type": "code",
   "execution_count": 12,
   "metadata": {},
   "outputs": [
    {
     "data": {
      "text/plain": [
       "<Response [200]>"
      ]
     },
     "execution_count": 12,
     "metadata": {},
     "output_type": "execute_result"
    }
   ],
   "source": [
    "test_res = requests.get(\"http://127.0.0.1:5000/predict\",\n",
    "                        json=json.dumps(body)) # payload\n",
    "\n",
    "# test_res = requests.get(\"https://uplevelmasterclassflaskjackie.herokuapp.com/predict\",\n",
    "#                         json=json.dumps(body))\n",
    "test_res"
   ]
  },
  {
   "cell_type": "code",
   "execution_count": 13,
   "metadata": {},
   "outputs": [
    {
     "data": {
      "text/plain": [
       "{'prediction': [53.1985018037518,\n",
       "  53.1985018037518,\n",
       "  53.1985018037518,\n",
       "  53.1985018037518]}"
      ]
     },
     "execution_count": 13,
     "metadata": {},
     "output_type": "execute_result"
    }
   ],
   "source": [
    "test_res.json()"
   ]
  },
  {
   "cell_type": "code",
   "execution_count": 14,
   "metadata": {},
   "outputs": [
    {
     "data": {
      "text/html": [
       "<div>\n",
       "<style scoped>\n",
       "    .dataframe tbody tr th:only-of-type {\n",
       "        vertical-align: middle;\n",
       "    }\n",
       "\n",
       "    .dataframe tbody tr th {\n",
       "        vertical-align: top;\n",
       "    }\n",
       "\n",
       "    .dataframe thead th {\n",
       "        text-align: right;\n",
       "    }\n",
       "</style>\n",
       "<table border=\"1\" class=\"dataframe\">\n",
       "  <thead>\n",
       "    <tr style=\"text-align: right;\">\n",
       "      <th></th>\n",
       "      <th>school_setting</th>\n",
       "      <th>school_type</th>\n",
       "      <th>teaching_method</th>\n",
       "      <th>n_student</th>\n",
       "      <th>gender</th>\n",
       "      <th>lunch</th>\n",
       "      <th>pretest</th>\n",
       "      <th>prediction</th>\n",
       "    </tr>\n",
       "  </thead>\n",
       "  <tbody>\n",
       "    <tr>\n",
       "      <th>0</th>\n",
       "      <td>0</td>\n",
       "      <td>1</td>\n",
       "      <td>1</td>\n",
       "      <td>20</td>\n",
       "      <td>1</td>\n",
       "      <td>1</td>\n",
       "      <td>48</td>\n",
       "      <td>53.198502</td>\n",
       "    </tr>\n",
       "    <tr>\n",
       "      <th>1</th>\n",
       "      <td>0</td>\n",
       "      <td>1</td>\n",
       "      <td>1</td>\n",
       "      <td>20</td>\n",
       "      <td>1</td>\n",
       "      <td>1</td>\n",
       "      <td>48</td>\n",
       "      <td>53.198502</td>\n",
       "    </tr>\n",
       "    <tr>\n",
       "      <th>2</th>\n",
       "      <td>0</td>\n",
       "      <td>1</td>\n",
       "      <td>1</td>\n",
       "      <td>20</td>\n",
       "      <td>1</td>\n",
       "      <td>1</td>\n",
       "      <td>48</td>\n",
       "      <td>53.198502</td>\n",
       "    </tr>\n",
       "    <tr>\n",
       "      <th>3</th>\n",
       "      <td>0</td>\n",
       "      <td>1</td>\n",
       "      <td>1</td>\n",
       "      <td>20</td>\n",
       "      <td>1</td>\n",
       "      <td>1</td>\n",
       "      <td>48</td>\n",
       "      <td>53.198502</td>\n",
       "    </tr>\n",
       "  </tbody>\n",
       "</table>\n",
       "</div>"
      ],
      "text/plain": [
       "   school_setting  school_type  teaching_method  n_student  gender  lunch  \\\n",
       "0               0            1                1         20       1      1   \n",
       "1               0            1                1         20       1      1   \n",
       "2               0            1                1         20       1      1   \n",
       "3               0            1                1         20       1      1   \n",
       "\n",
       "   pretest  prediction  \n",
       "0       48   53.198502  \n",
       "1       48   53.198502  \n",
       "2       48   53.198502  \n",
       "3       48   53.198502  "
      ]
     },
     "execution_count": 14,
     "metadata": {},
     "output_type": "execute_result"
    }
   ],
   "source": [
    "# take the values of prediction and append it to test_df as new column\n",
    "predictions = test_res.json()['prediction']\n",
    "test_df['prediction'] = predictions\n",
    "test_df"
   ]
  },
  {
   "cell_type": "code",
   "execution_count": 15,
   "metadata": {},
   "outputs": [
    {
     "data": {
      "text/plain": [
       "{'prediction': [53.1985018037518,\n",
       "  53.1985018037518,\n",
       "  53.1985018037518,\n",
       "  53.1985018037518]}"
      ]
     },
     "execution_count": 15,
     "metadata": {},
     "output_type": "execute_result"
    }
   ],
   "source": [
    "test_res.json()"
   ]
  },
  {
   "cell_type": "code",
   "execution_count": null,
   "metadata": {},
   "outputs": [],
   "source": []
  }
 ],
 "metadata": {
  "kernelspec": {
   "display_name": "Python 3 (ipykernel)",
   "language": "python",
   "name": "python3"
  },
  "language_info": {
   "codemirror_mode": {
    "name": "ipython",
    "version": 3
   },
   "file_extension": ".py",
   "mimetype": "text/x-python",
   "name": "python",
   "nbconvert_exporter": "python",
   "pygments_lexer": "ipython3",
   "version": "3.9.7"
  }
 },
 "nbformat": 4,
 "nbformat_minor": 4
}
